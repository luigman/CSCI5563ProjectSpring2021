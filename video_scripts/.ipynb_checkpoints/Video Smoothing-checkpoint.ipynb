{
 "cells": [
  {
   "cell_type": "code",
   "execution_count": 11,
   "id": "respiratory-browse",
   "metadata": {},
   "outputs": [],
   "source": [
    "import numpy as np\n",
    "import cv2 "
   ]
  },
  {
   "cell_type": "code",
   "execution_count": 106,
   "id": "monthly-trading",
   "metadata": {},
   "outputs": [],
   "source": [
    "cap = cv2.VideoCapture('relit_video18_1.mp4')\n",
    "ret, frame = cap.read()\n",
    "frames = []\n",
    "while(1):\n",
    "    frames.append(frame)\n",
    "    ret, frame = cap.read()\n",
    "    if ret==False :\n",
    "        cap.release()\n",
    "        cv2.destroyAllWindows()\n",
    "        break"
   ]
  },
  {
   "cell_type": "code",
   "execution_count": 107,
   "id": "preceding-scout",
   "metadata": {},
   "outputs": [],
   "source": [
    "def average_frames(f1, f2, f3):\n",
    "    f_new = np.uint8(f1/3 + f2/3 + f3/3)\n",
    "    #f_new = cv2.cvtColor(f_new, cv2.COLOR_BGR2RGB)\n",
    "    return f_new"
   ]
  },
  {
   "cell_type": "code",
   "execution_count": 108,
   "id": "sorted-richards",
   "metadata": {},
   "outputs": [],
   "source": [
    "new_frames = []\n",
    "for i in range(1, len(frames) - 1):\n",
    "    new_frame = average_frames(frames[i-1], frames[i], frames[i+1])\n",
    "    new_frames.append(new_frame)"
   ]
  },
  {
   "cell_type": "code",
   "execution_count": 109,
   "id": "revolutionary-mercy",
   "metadata": {},
   "outputs": [],
   "source": [
    "fourcc = cv2.VideoWriter_fourcc('M','J','P','G')\n",
    "size = new_frames[0].shape[0:2]\n",
    "writer = cv2.VideoWriter('relit_video18_1_new.avi', fourcc, 25, (size[1], size[0]))\n",
    "for frame in new_frames:\n",
    "    writer.write(frame)\n",
    "    "
   ]
  },
  {
   "cell_type": "code",
   "execution_count": 90,
   "id": "living-liabilities",
   "metadata": {},
   "outputs": [],
   "source": [
    "f1 = np.array(frames[0])\n",
    "f2 = np.array(frames[1])\n",
    "f3 = np.array(frames[2])"
   ]
  },
  {
   "cell_type": "code",
   "execution_count": 95,
   "id": "dirty-innocent",
   "metadata": {},
   "outputs": [
    {
     "data": {
      "text/plain": [
       "array([[[101, 156, 182],\n",
       "        [102, 157, 183],\n",
       "        [103, 158, 184],\n",
       "        ...,\n",
       "        [116, 183, 200],\n",
       "        [119, 186, 203],\n",
       "        [123, 190, 207]],\n",
       "\n",
       "       [[ 98, 153, 179],\n",
       "        [ 98, 153, 179],\n",
       "        [101, 156, 182],\n",
       "        ...,\n",
       "        [118, 185, 202],\n",
       "        [121, 188, 205],\n",
       "        [125, 192, 209]],\n",
       "\n",
       "       [[ 96, 149, 175],\n",
       "        [ 94, 147, 173],\n",
       "        [ 99, 152, 178],\n",
       "        ...,\n",
       "        [126, 184, 202],\n",
       "        [131, 189, 207],\n",
       "        [135, 193, 211]],\n",
       "\n",
       "       ...,\n",
       "\n",
       "       [[ 62,  57,  77],\n",
       "        [ 61,  56,  76],\n",
       "        [ 60,  55,  75],\n",
       "        ...,\n",
       "        [100, 113, 142],\n",
       "        [102, 115, 144],\n",
       "        [106, 119, 148]],\n",
       "\n",
       "       [[ 67,  62,  82],\n",
       "        [ 65,  60,  80],\n",
       "        [ 65,  60,  80],\n",
       "        ...,\n",
       "        [102, 125, 152],\n",
       "        [106, 129, 156],\n",
       "        [106, 129, 156]],\n",
       "\n",
       "       [[ 71,  66,  86],\n",
       "        [ 70,  65,  85],\n",
       "        [ 69,  64,  84],\n",
       "        ...,\n",
       "        [110, 133, 160],\n",
       "        [112, 135, 162],\n",
       "        [112, 135, 162]]], dtype=uint8)"
      ]
     },
     "execution_count": 95,
     "metadata": {},
     "output_type": "execute_result"
    }
   ],
   "source": [
    "f1+f2"
   ]
  },
  {
   "cell_type": "code",
   "execution_count": 74,
   "id": "collected-particular",
   "metadata": {},
   "outputs": [],
   "source": [
    "frame_rgb = cv2.cvtColor(frames[0], cv2.COLOR_BGR2RGB)"
   ]
  },
  {
   "cell_type": "code",
   "execution_count": 75,
   "id": "departmental-temple",
   "metadata": {},
   "outputs": [
    {
     "data": {
      "text/plain": [
       "array([[[ 89,  77,  51],\n",
       "        [ 90,  78,  52],\n",
       "        [ 91,  79,  53],\n",
       "        ...,\n",
       "        [100,  91,  60],\n",
       "        [103,  94,  63],\n",
       "        [105,  96,  65]],\n",
       "\n",
       "       [[ 87,  75,  49],\n",
       "        [ 87,  75,  49],\n",
       "        [ 90,  78,  52],\n",
       "        ...,\n",
       "        [100,  91,  60],\n",
       "        [103,  94,  63],\n",
       "        [105,  96,  65]],\n",
       "\n",
       "       [[ 85,  73,  47],\n",
       "        [ 85,  73,  47],\n",
       "        [ 87,  75,  49],\n",
       "        ...,\n",
       "        [100,  91,  62],\n",
       "        [103,  94,  65],\n",
       "        [105,  96,  67]],\n",
       "\n",
       "       ...,\n",
       "\n",
       "       [[ 38,  28,  32],\n",
       "        [ 38,  28,  32],\n",
       "        [ 38,  28,  32],\n",
       "        ...,\n",
       "        [ 70,  57,  50],\n",
       "        [ 71,  58,  51],\n",
       "        [ 73,  60,  53]],\n",
       "\n",
       "       [[ 40,  30,  34],\n",
       "        [ 40,  30,  34],\n",
       "        [ 40,  30,  34],\n",
       "        ...,\n",
       "        [ 76,  64,  52],\n",
       "        [ 78,  66,  54],\n",
       "        [ 78,  66,  54]],\n",
       "\n",
       "       [[ 42,  32,  36],\n",
       "        [ 42,  32,  36],\n",
       "        [ 42,  32,  36],\n",
       "        ...,\n",
       "        [ 81,  69,  57],\n",
       "        [ 82,  70,  58],\n",
       "        [ 82,  70,  58]]], dtype=uint8)"
      ]
     },
     "execution_count": 75,
     "metadata": {},
     "output_type": "execute_result"
    }
   ],
   "source": [
    "frame_rgb"
   ]
  },
  {
   "cell_type": "code",
   "execution_count": null,
   "id": "australian-federation",
   "metadata": {},
   "outputs": [],
   "source": []
  }
 ],
 "metadata": {
  "kernelspec": {
   "display_name": "Python 3",
   "language": "python",
   "name": "python3"
  },
  "language_info": {
   "codemirror_mode": {
    "name": "ipython",
    "version": 3
   },
   "file_extension": ".py",
   "mimetype": "text/x-python",
   "name": "python",
   "nbconvert_exporter": "python",
   "pygments_lexer": "ipython3",
   "version": "3.7.7"
  }
 },
 "nbformat": 4,
 "nbformat_minor": 5
}
